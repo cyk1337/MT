{
 "cells": [
  {
   "cell_type": "markdown",
   "metadata": {},
   "source": [
    "Get Started\n",
    "---"
   ]
  },
  {
   "cell_type": "code",
   "execution_count": 2,
   "metadata": {},
   "outputs": [
    {
     "name": "stdout",
     "output_type": "stream",
     "text": [
      "Japanese English dataset configuration\n",
      "vocab size, en=3713, fr=3949\n",
      "--------------------------------------------------\n",
      "Training progress will be logged in:\n",
      "\tmodel/train_10000sen_1-1layers_100units_ja_en_exp1_NO_ATTN.log\n",
      "--------------------------------------------------\n",
      "Trained model will be saved as:\n",
      "\tmodel/seq2seq_10000sen_1-1layers_100units_ja_en_exp1_NO_ATTN.model\n",
      "--------------------------------------------------\n",
      "Existing model found\n",
      "--------------------------------------------------\n",
      "loading model ...\n",
      "finished loading: model/seq2seq_10000sen_1-1layers_100units_ja_en_exp1_NO_ATTN.model\n",
      "--------------------------------------------------\n"
     ]
    }
   ],
   "source": [
    "%run nmt_translate.py"
   ]
  },
  {
   "cell_type": "code",
   "execution_count": 3,
   "metadata": {},
   "outputs": [
    {
     "name": "stdout",
     "output_type": "stream",
     "text": [
      "English predictions, s=10000, num=10:\n",
      "--------------------------------------------------\n",
      "Src | この 路地 は 通り抜け でき ま せ ん 。                                                         \n",
      "Ref | this is a dead @-@ end alley .                                                  \n",
      "Hyp | i can &apos;t no this . . _EOS                                                  \n",
      "--------------------------------------------------\n",
      "precision | 0.2500\n",
      "recall | 0.2500\n",
      "--------------------------------------------------\n",
      "Src | ええ 、 届 い た の を お 知 らせ する の を 忘れ て しま っ て す み ま せ ん 。                            \n",
      "Ref | yes , sorry , i forgot to acknowledge it .                                      \n",
      "Hyp | i can &apos;t to to you you a a a a . . . _EOS                                  \n",
      "--------------------------------------------------\n",
      "precision | 0.2000\n",
      "recall | 0.3000\n",
      "--------------------------------------------------\n",
      "Src | 彼 は ドイツ 生まれ の 人 だ 。                                                             \n",
      "Ref | he is a german by origin .                                                      \n",
      "Hyp | he is a of of . . _EOS                                                          \n",
      "--------------------------------------------------\n",
      "precision | 0.5000\n",
      "recall | 0.5714\n",
      "--------------------------------------------------\n",
      "Src | 我々 は ロビン フッド の 伝説 を 良く 知 っ て い る 。                                              \n",
      "Ref | we are familiar with the legend of robin hood .                                 \n",
      "Hyp | we are _UNK _UNK _UNK _UNK . . _EOS                                             \n",
      "--------------------------------------------------\n",
      "precision | 0.3333\n",
      "recall | 0.3000\n",
      "--------------------------------------------------\n",
      "Src | トランク に は 鍵 が かけ られ て い ま す か 。                                                  \n",
      "Ref | is your trunk locked ?                                                          \n",
      "Hyp | do you _UNK _UNK _UNK ? ? _EOS                                                  \n",
      "--------------------------------------------------\n",
      "precision | 0.1250\n",
      "recall | 0.2000\n",
      "--------------------------------------------------\n",
      "Src | それ は 冗談 の つもり で い っ た だけ だ よ 。                                                  \n",
      "Ref | i just meant it as a joke .                                                     \n",
      "Hyp | it &apos;s it , , it _EOS                                                       \n",
      "--------------------------------------------------\n",
      "precision | 0.1429\n",
      "recall | 0.1250\n",
      "--------------------------------------------------\n",
      "Src | その 部屋 は 居心地 の 良 い 感じ が し た 。                                                    \n",
      "Ref | the room had a nice cozy feel .                                                 \n",
      "Hyp | the was was the the the . . _EOS                                                \n",
      "--------------------------------------------------\n",
      "precision | 0.2222\n",
      "recall | 0.2500\n",
      "--------------------------------------------------\n",
      "Src | パソコン が 使え る の は 彼女 だけ で す 。                                                     \n",
      "Ref | she alone is able to use the personal computer .                                \n",
      "Hyp | i is is she her her . . _EOS                                                    \n",
      "--------------------------------------------------\n",
      "precision | 0.3333\n",
      "recall | 0.3000\n",
      "--------------------------------------------------\n",
      "Src | 彼 ら は 共同 声明 に 同意 し た 。                                                          \n",
      "Ref | they agreed on a joint statement .                                              \n",
      "Hyp | they made on the the . . _EOS                                                   \n",
      "--------------------------------------------------\n",
      "precision | 0.3750\n",
      "recall | 0.4286\n",
      "--------------------------------------------------\n",
      "Src | 彼 は 彼女 を バス に 助け あげ た 。                                                         \n",
      "Ref | he handed her up into the bus .                                                 \n",
      "Hyp | he _UNK his her her . . _EOS                                                    \n",
      "--------------------------------------------------\n",
      "precision | 0.3750\n",
      "recall | 0.3750\n",
      "sentences matching filter = 10\n"
     ]
    }
   ],
   "source": [
    "_ = predict(s=10000, num=10)"
   ]
  },
  {
   "cell_type": "code",
   "execution_count": 4,
   "metadata": {},
   "outputs": [
    {
     "name": "stdout",
     "output_type": "stream",
     "text": [
      "English predictions, s=0, num=10:\n",
      "--------------------------------------------------\n",
      "Src | ステーキ は 中位 で 焼 い て くださ い 。                                                       \n",
      "Ref | i like my steak medium .                                                        \n",
      "Hyp | please the the the the . . _EOS                                                 \n",
      "--------------------------------------------------\n",
      "precision | 0.1250\n",
      "recall | 0.1667\n",
      "--------------------------------------------------\n",
      "Src | 彼女 の 美し さ に 関 し て は 、 疑 う 余地 が な い 。                                            \n",
      "Ref | there is no doubt as to her beauty .                                            \n",
      "Hyp | there is no to her her her . . _EOS                                             \n",
      "--------------------------------------------------\n",
      "precision | 0.6000\n",
      "recall | 0.6667\n",
      "--------------------------------------------------\n",
      "Src | この 近所 の 家 は どれ も とても よく 似 て い る の で 見分け が つ か な い 。                             \n",
      "Ref | all the houses in this neighborhood look so much alike that i can &apos;t tell them apart .\n",
      "Hyp | this can is is , , this this this this this this . . . _EOS                     \n",
      "--------------------------------------------------\n",
      "precision | 0.1875\n",
      "recall | 0.1667\n",
      "--------------------------------------------------\n",
      "Src | 相撲 を 見 た こと が あ り ま す か 。                                                       \n",
      "Ref | have you ever watched sumo wrestling ?                                          \n",
      "Hyp | have you have _UNK _UNK ? ? _EOS                                                \n",
      "--------------------------------------------------\n",
      "precision | 0.3750\n",
      "recall | 0.4286\n",
      "--------------------------------------------------\n",
      "Src | 彼 は 、 その 川 を 泳 い で 渡 ろ う と し て 失敗 し た 。                                         \n",
      "Ref | he failed in his attempt to swim across the river .                             \n",
      "Hyp | he was the the the the the the the . . _EOS                                     \n",
      "--------------------------------------------------\n",
      "precision | 0.2500\n",
      "recall | 0.2727\n",
      "--------------------------------------------------\n",
      "Src | こちら に 着 い たら すぐ 連絡 し て 下さ い 。                                                   \n",
      "Ref | get in touch with me as soon as you arrive here .                               \n",
      "Hyp | please me to to to a a . . . _EOS                                               \n",
      "--------------------------------------------------\n",
      "precision | 0.1818\n",
      "recall | 0.1667\n",
      "--------------------------------------------------\n",
      "Src | 昼食 の 後 、 散歩 を する の は どう で す か 。                                                 \n",
      "Ref | how about going for a walk after lunch ?                                        \n",
      "Hyp | what is , , , in in ? _EOS                                                      \n",
      "--------------------------------------------------\n",
      "precision | 0.1111\n",
      "recall | 0.1111\n",
      "--------------------------------------------------\n",
      "Src | 彼女 は 彼 を 見 た だけ で も いや だっ た 。                                                   \n",
      "Ref | the sight of him was hateful to her .                                           \n",
      "Hyp | she was to to to to . . _EOS                                                    \n",
      "--------------------------------------------------\n",
      "precision | 0.3333\n",
      "recall | 0.3333\n",
      "--------------------------------------------------\n",
      "Src | うわさ は 四方 八方 に 広が っ た 。                                                          \n",
      "Ref | the rumor spread far and wide .                                                 \n",
      "Hyp | the _UNK _UNK in in . . _EOS                                                    \n",
      "--------------------------------------------------\n",
      "precision | 0.2500\n",
      "recall | 0.2857\n",
      "--------------------------------------------------\n",
      "Src | 老人 は 過去 を 振り返 り がち で あ る 。                                                      \n",
      "Ref | old people are inclined to look back on the past .                              \n",
      "Hyp | the is the the the the the . . _EOS                                             \n",
      "--------------------------------------------------\n",
      "precision | 0.2000\n",
      "recall | 0.1818\n",
      "sentences matching filter = 10\n"
     ]
    }
   ],
   "source": [
    "_ = predict(s=0, num=10)"
   ]
  },
  {
   "cell_type": "code",
   "execution_count": 5,
   "metadata": {},
   "outputs": [
    {
     "name": "stdout",
     "output_type": "stream",
     "text": [
      "English predictions, s=10000, num=10:\n",
      "--------------------------------------------------\n",
      "Src | 彼 は ドイツ 生まれ の 人 だ 。                                                             \n",
      "Ref | he is a german by origin .                                                      \n",
      "Hyp | he is a of of . . _EOS                                                          \n",
      "--------------------------------------------------\n",
      "precision | 0.5000\n",
      "recall | 0.5714\n",
      "sentences matching filter = 1\n"
     ]
    }
   ],
   "source": [
    "_ = predict(s=10000, num=10, r_filt=.5) "
   ]
  },
  {
   "cell_type": "code",
   "execution_count": 6,
   "metadata": {},
   "outputs": [
    {
     "name": "stdout",
     "output_type": "stream",
     "text": [
      "English predictions, s=10000, num=10:\n",
      "--------------------------------------------------\n",
      "Src | 彼 は ドイツ 生まれ の 人 だ 。                                                             \n",
      "Ref | he is a german by origin .                                                      \n",
      "Hyp | he is a of of . . _EOS                                                          \n",
      "--------------------------------------------------\n",
      "precision | 0.5000\n",
      "recall | 0.5714\n",
      "sentences matching filter = 1\n"
     ]
    }
   ],
   "source": [
    "_ = predict(s=10000, num=10, p_filt=.5)"
   ]
  },
  {
   "cell_type": "code",
   "execution_count": null,
   "metadata": {},
   "outputs": [],
   "source": []
  }
 ],
 "metadata": {
  "kernelspec": {
   "display_name": "Python 3",
   "language": "python",
   "name": "python3"
  },
  "language_info": {
   "codemirror_mode": {
    "name": "ipython",
    "version": 3
   },
   "file_extension": ".py",
   "mimetype": "text/x-python",
   "name": "python",
   "nbconvert_exporter": "python",
   "pygments_lexer": "ipython3",
   "version": "3.6.4"
  }
 },
 "nbformat": 4,
 "nbformat_minor": 2
}
