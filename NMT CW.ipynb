{
 "cells": [
  {
   "cell_type": "markdown",
   "metadata": {},
   "source": [
    "Get started\n",
    "===\n",
    "Q2. [10 marks] Examine the parallel data and answer the following questions.\n",
    "---\n",
    "1.Plot (choose sensible graphs) the distribution of sentence lengths in the English and Japanese and their correlation. \n",
    "\n",
    "What do you infer from this about translating between these languages?"
   ]
  },
  {
   "cell_type": "code",
   "execution_count": 21,
   "metadata": {},
   "outputs": [],
   "source": [
    "import os\n",
    "import numpy as np\n",
    "import matplotlib.pyplot as plt\n",
    "%matplotlib inline\n",
    "from collections import Counter\n",
    "\n",
    "work_dir = os.getcwd()\n",
    "data = os.path.join(work_dir, 'data')\n",
    "text_en = os.path.join(data, 'text.en')\n",
    "text_fr = os.path.join(data, 'text.fr')"
   ]
  },
  {
   "cell_type": "code",
   "execution_count": 22,
   "metadata": {
    "scrolled": true
   },
   "outputs": [
    {
     "name": "stdout",
     "output_type": "stream",
     "text": [
      "text.en most frequent length: [(8, 1660), (7, 1554), (9, 1485), (10, 1149), (6, 1137)]\n"
     ]
    },
    {
     "data": {
      "image/png": "[encoded data removed]",
      "text/plain": [
       "<matplotlib.figure.Figure at 0x11e4a6da0>"
      ]
     },
     "metadata": {},
     "output_type": "display_data"
    }
   ],
   "source": [
    "def plot_distribution(text_, color='c', edgecolor=\"black\"):\n",
    "\n",
    "    with open(text_) as f:\n",
    "        text_len = [len(line.split()) for line in f.readlines()]\n",
    "    plt.hist(text_len, bins=np.arange(start=0, stop=max(text_len), step=1), color=color, edgecolor=edgecolor)\n",
    "    plt.xlabel('sentence length')\n",
    "    plt.ylabel('sentence number')\n",
    "    count = Counter(text_len)\n",
    "    print(text_[-7:],\"most frequent length:\", count.most_common(5))  \n",
    "plot_distribution(text_en)"
   ]
  },
  {
   "cell_type": "code",
   "execution_count": 23,
   "metadata": {},
   "outputs": [
    {
     "name": "stdout",
     "output_type": "stream",
     "text": [
      "text.fr most frequent length: [(12, 1098), (11, 1038), (13, 1006), (10, 908), (14, 880)]\n"
     ]
    },
    {
     "data": {
      "image/png": "[encoded data removed]",
      "text/plain": [
       "<matplotlib.figure.Figure at 0x11d5a9668>"
      ]
     },
     "metadata": {},
     "output_type": "display_data"
    }
   ],
   "source": [
    "plot_distribution(text_fr, 'r', 'g')"
   ]
  },
  {
   "cell_type": "code",
   "execution_count": 32,
   "metadata": {},
   "outputs": [
    {
     "data": {
      "image/png": "[encoded data removed]",
      "text/plain": [
       "<matplotlib.figure.Figure at 0x11defb940>"
      ]
     },
     "metadata": {},
     "output_type": "display_data"
    }
   ],
   "source": [
    "with open(text_en) as f:\n",
    "    en_len = [len(line.split()) for line in f.readlines()]\n",
    "#     max_len_en = max(text_len)\n",
    "with open(text_fr) as f:\n",
    "    fr_len = [len(line.split()) for line in f.readlines()]\n",
    "#     max_len_fr = max(text_len)\n",
    "# bins_max = max(max_len_en, max_len_fr) # 54\n",
    "plt.hist([en_len,fr_len],bins=60,label=['en', 'fr'])\n",
    "plt.ylabel('sentence number')\n",
    "plt.xlabel('sentence length')\n",
    "_ =plt.legend()"
   ]
  },
  {
   "cell_type": "code",
   "execution_count": 25,
   "metadata": {},
   "outputs": [
    {
     "data": {
      "text/plain": [
       "10500"
      ]
     },
     "execution_count": 25,
     "metadata": {},
     "output_type": "execute_result"
    }
   ],
   "source": [
    "len(en_len)"
   ]
  },
  {
   "cell_type": "markdown",
   "metadata": {},
   "source": [
    "What do you infer from this about translating between these languages?\n",
    "\n",
    "---\n",
    "> Average english sentences have shorter length than Japanese.."
   ]
  },
  {
   "cell_type": "markdown",
   "metadata": {},
   "source": [
    "2.How many word tokens are in the English data? In the Japanese?"
   ]
  },
  {
   "cell_type": "code",
   "execution_count": 141,
   "metadata": {},
   "outputs": [
    {
     "name": "stdout",
     "output_type": "stream",
     "text": [
      "English word tokens number: 97643\n",
      "Japanese word tokens number: 143580\n"
     ]
    }
   ],
   "source": [
    "def get_token_num(text_):\n",
    "    with open(text_) as f:\n",
    "        text_len = [len(line.split()) for line in f.readlines()]\n",
    "    token_num = sum(text_len)\n",
    "#         print(token_num)\n",
    "    return token_num\n",
    "print('English word tokens number:', get_token_num(text_en))\n",
    "print('Japanese word tokens number:', get_token_num(text_fr))"
   ]
  },
  {
   "cell_type": "markdown",
   "metadata": {},
   "source": [
    "3.How many word types are in the English data? In the Japanese data?"
   ]
  },
  {
   "cell_type": "code",
   "execution_count": 34,
   "metadata": {},
   "outputs": [
    {
     "name": "stdout",
     "output_type": "stream",
     "text": [
      "English word types: 7211\n",
      "japanese word types: 8251\n"
     ]
    }
   ],
   "source": [
    "def get_word_types(text_):\n",
    "    token_list = []\n",
    "    with open(text_) as f:\n",
    "        text_tokens = [line.split() for line in f.readlines()]\n",
    "        for i in text_tokens: token_list.extend(i)\n",
    "#         token_list = [i.lower() for i in token_list]\n",
    "        word_type = set(token_list)\n",
    "        return len(word_type)\n",
    "print('English word types:' ,get_word_types(text_en))\n",
    "print('japanese word types:' ,get_word_types(text_fr))"
   ]
  },
  {
   "cell_type": "markdown",
   "metadata": {},
   "source": [
    "4.How many word tokens will be replaced by _UNK in English? In Japanese?"
   ]
  },
  {
   "cell_type": "code",
   "execution_count": 35,
   "metadata": {},
   "outputs": [
    {
     "name": "stdout",
     "output_type": "stream",
     "text": [
      "English UNK numbers: 3384\n",
      "Japanese UNK numbers: 4171\n"
     ]
    }
   ],
   "source": [
    "def get_UNK_nums(text_):\n",
    "    from collections import Counter\n",
    "    with open(text_) as f:\n",
    "        token_list = []\n",
    "        num_UNK = 0\n",
    "        text_tokens = [line.split() for line in f.readlines()]\n",
    "#         token_list = [i.lower() for i in token_list]\n",
    "        for i in text_tokens: token_list.extend(i)\n",
    "    token_counter = Counter(token_list)\n",
    "    UNK_list = [k for k,v in token_counter.items() if v==1]\n",
    "    return len(UNK_list)\n",
    "print('English UNK numbers:',get_UNK_nums(text_en))\n",
    "print('Japanese UNK numbers:',get_UNK_nums(text_fr))"
   ]
  },
  {
   "cell_type": "markdown",
   "metadata": {},
   "source": [
    "5.Given the observations above, how do you think the NMT system will be affected by differences in sentence length, type/ token ratios, and unknown word handling?"
   ]
  },
  {
   "cell_type": "code",
   "execution_count": null,
   "metadata": {},
   "outputs": [],
   "source": []
  },
  {
   "cell_type": "markdown",
   "metadata": {},
   "source": [
    "Part 2: Exploring the model [30 marks]\n",
    "===\n",
    "Q3. [10 marks] Decoding\n",
    "\n",
    "1.Currently, the model implements greedy decoding, of always choosing the maximum-probability word at each time step. Can you explain why this might be problematic? Give language specific examples as part of your answer."
   ]
  },
  {
   "cell_type": "code",
   "execution_count": null,
   "metadata": {},
   "outputs": [],
   "source": []
  },
  {
   "cell_type": "markdown",
   "metadata": {},
   "source": [
    "2.How would you modify this decoder to do beam search—that is, to consider multiple possible translations at each time step. NOTE: You needn’t implement beam search. The purpose of this question is simply for you to think through and clearly explain how you would do it."
   ]
  },
  {
   "cell_type": "code",
   "execution_count": null,
   "metadata": {},
   "outputs": [],
   "source": []
  },
  {
   "cell_type": "markdown",
   "metadata": {},
   "source": [
    "3.Often with beam search (and greedy decoding), the decoder will output translations which are shorter than one would expect, as such length normalization is often used to fix this. Why does the decoder favour short sentences? What is a problem that length normalization can introduce?"
   ]
  },
  {
   "cell_type": "code",
   "execution_count": null,
   "metadata": {},
   "outputs": [],
   "source": [
    "\"\"\"\n",
    "1). Sentences with shorter length have a larger probability.\n",
    "\n",
    "2). \n",
    "\"\"\""
   ]
  },
  {
   "cell_type": "markdown",
   "metadata": {},
   "source": [
    "Q4. [10 marks] MOAR layers!\n",
    "\n",
    "1. Change the number of layers in the encoder = 2, decoder = 3. Retrain the system.\n",
    "2. Draw a diagram showing this new architecture (you may ignore the memory cell of the LSTM).\n",
    "3. What effect does this change have on dev-set perplexity, BLEU score and the training loss (all in comparison to the baseline)? Can you explain why it does worse/better on the dev set than the baseline single layer model? (For reference, the baseline was trained for 12 epochs.) Can you explain why it does worse/better on the training set than the baseline? Is there a difference between the dev set and training set performance? Why is this case?"
   ]
  },
  {
   "cell_type": "code",
   "execution_count": 4,
   "metadata": {
    "scrolled": true
   },
   "outputs": [
    {
     "name": "stderr",
     "output_type": "stream",
     "text": [
      "\r",
      "  0%|          | 0/500 [00:00<?, ?it/s]"
     ]
    },
    {
     "name": "stdout",
     "output_type": "stream",
     "text": [
      "vocab size, en=3713, fr=3949\n",
      "--------------------------------------------------\n",
      "Training progress will be logged in:\n",
      "\tmodel/train_10000sen_1-1layers_100units_ja_en_exp1_NO_ATTN.log\n",
      "--------------------------------------------------\n",
      "Trained model will be saved as:\n",
      "\tmodel/seq2seq_10000sen_1-1layers_100units_ja_en_exp1_NO_ATTN.model\n",
      "--------------------------------------------------\n",
      "Existing model found\n",
      "--------------------------------------------------\n",
      "loading model ...\n",
      "finished loading: model/seq2seq_10000sen_1-1layers_100units_ja_en_exp1_NO_ATTN.model\n",
      "--------------------------------------------------\n"
     ]
    },
    {
     "name": "stderr",
     "output_type": "stream",
     "text": [
      "100%|██████████| 500/500 [00:10<00:00, 49.27it/s]\n",
      "loss=4.841463:   1%|          | 6/500 [00:00<00:14, 33.36it/s]"
     ]
    },
    {
     "name": "stdout",
     "output_type": "stream",
     "text": [
      "BLEU: 14.470\n"
     ]
    },
    {
     "name": "stderr",
     "output_type": "stream",
     "text": [
      "loss=6.376895: 100%|██████████| 500/500 [00:13<00:00, 36.00it/s]"
     ]
    },
    {
     "name": "stdout",
     "output_type": "stream",
     "text": [
      "--------------------------------------------------\n",
      "dev perplexity | 32.6035\n",
      "# words in dev | 4557\n",
      "--------------------------------------------------\n"
     ]
    },
    {
     "name": "stderr",
     "output_type": "stream",
     "text": [
      "\n"
     ]
    },
    {
     "data": {
      "text/plain": [
       "32.603503581862554"
      ]
     },
     "execution_count": 4,
     "metadata": {},
     "output_type": "execute_result"
    }
   ],
   "source": [
    "# TODO Q4.evaluate pp, BLEU, loss\n",
    "%run nmt_translate.py\n",
    "# baseline：enc_1, dec_1\n",
    "compute_dev_bleu()\n",
    "compute_dev_pplx()"
   ]
  },
  {
   "cell_type": "code",
   "execution_count": 5,
   "metadata": {},
   "outputs": [
    {
     "data": {
      "text/plain": [
       "<enc_dec.EncoderDecoder at 0x114d80048>"
      ]
     },
     "execution_count": 5,
     "metadata": {},
     "output_type": "execute_result"
    }
   ],
   "source": [
    "model.c"
   ]
  },
  {
   "cell_type": "code",
   "execution_count": null,
   "metadata": {},
   "outputs": [],
   "source": []
  }
 ],
 "metadata": {
  "kernelspec": {
   "display_name": "Python 3",
   "language": "python",
   "name": "python3"
  },
  "language_info": {
   "codemirror_mode": {
    "name": "ipython",
    "version": 3
   },
   "file_extension": ".py",
   "mimetype": "text/x-python",
   "name": "python",
   "nbconvert_exporter": "python",
   "pygments_lexer": "ipython3",
   "version": "3.6.2"
  },
  "varInspector": {
   "cols": {
    "lenName": 16,
    "lenType": 16,
    "lenVar": 40
   },
   "kernels_config": {
    "python": {
     "delete_cmd_postfix": "",
     "delete_cmd_prefix": "del ",
     "library": "var_list.py",
     "varRefreshCmd": "print(var_dic_list())"
    },
    "r": {
     "delete_cmd_postfix": ") ",
     "delete_cmd_prefix": "rm(",
     "library": "var_list.r",
     "varRefreshCmd": "cat(var_dic_list()) "
    }
   },
   "oldHeight": 375,
   "position": {
    "height": "397px",
    "left": "695px",
    "right": "20px",
    "top": "197px",
    "width": "545px"
   },
   "types_to_exclude": [
    "module",
    "function",
    "builtin_function_or_method",
    "instance",
    "_Feature"
   ],
   "varInspector_section_display": "block",
   "window_display": false
  }
 },
 "nbformat": 4,
 "nbformat_minor": 2
}
