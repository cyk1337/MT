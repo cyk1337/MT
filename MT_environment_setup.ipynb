{
 "cells": [
  {
   "cell_type": "markdown",
   "metadata": {},
   "source": [
    "Get Started\n",
    "---"
   ]
  },
  {
   "cell_type": "code",
   "execution_count": 1,
   "metadata": {
    "scrolled": true
   },
   "outputs": [
    {
     "name": "stdout",
     "output_type": "stream",
     "text": [
      "Japanese English dataset configuration\n",
      "vocab size, en=3713, fr=3949\n",
      "--------------------------------------------------\n",
      "Training progress will be logged in:\n",
      "\tmodel/train_1000sen_1-1layers_100units_ja_en_exp1_SOFT_ATTN.log\n",
      "--------------------------------------------------\n",
      "Trained model will be saved as:\n",
      "\tmodel/seq2seq_1000sen_1-1layers_100units_ja_en_exp1_SOFT_ATTN.model\n",
      "--------------------------------------------------\n",
      "Existing model found\n",
      "--------------------------------------------------\n",
      "loading model ...\n"
     ]
    },
    {
     "name": "stderr",
     "output_type": "stream",
     "text": [
      "epoch=1, iter=0, loss=0.000000, mean loss=0.000000:   0%|          | 0/1000 [00:00<?, ?it/s]/Users/yekun/Documents/ENV/anaconda3/envs/anlp/lib/python3.6/site-packages/chainer/optimizer.py:702: RuntimeWarning: invalid value encountered in sqrt\n",
      "  [p.grad for p in opt.target.params(False)]))\n",
      "epoch=1, iter=1, loss=5.798664, mean loss=5.798664:   0%|          | 1/1000 [00:00<03:15,  5.12it/s]"
     ]
    },
    {
     "name": "stdout",
     "output_type": "stream",
     "text": [
      "finished loading: model/seq2seq_1000sen_1-1layers_100units_ja_en_exp1_SOFT_ATTN.model\n",
      "--------------------------------------------------\n"
     ]
    },
    {
     "name": "stderr",
     "output_type": "stream",
     "text": [
      "epoch=1, iter=7, loss=6.236670, mean loss=5.894231:   1%|          | 7/1000 [00:01<02:24,  6.86it/s]/Users/yekun/Documents/ENV/anaconda3/envs/anlp/lib/python3.6/site-packages/chainer/optimizer.py:703: RuntimeWarning: divide by zero encountered in double_scalars\n",
      "  rate = self.threshold / norm\n",
      "epoch=1, iter=1000, loss=5.275183, mean loss=5.418605: 100%|██████████| 1000/1000 [01:58<00:00,  7.10it/s]\n",
      "loss=4.543015:   5%|▌         | 5/100 [00:00<00:02, 32.00it/s]"
     ]
    },
    {
     "name": "stdout",
     "output_type": "stream",
     "text": [
      "--------------------------------------------------\n",
      "precision  | 0.2392\n",
      "recall     | 0.2283\n",
      "f1         | 0.2336\n",
      "--------------------------------------------------\n",
      "computing perplexity\n"
     ]
    },
    {
     "name": "stderr",
     "output_type": "stream",
     "text": [
      "loss=5.852929: 100%|██████████| 100/100 [00:03<00:00, 28.77it/s]\n"
     ]
    },
    {
     "name": "stdout",
     "output_type": "stream",
     "text": [
      "--------------------------------------------------\n",
      "dev perplexity | 58.7219\n",
      "# words in dev | 968\n",
      "--------------------------------------------------\n",
      "Saving model\n"
     ]
    },
    {
     "name": "stderr",
     "output_type": "stream",
     "text": [
      "  5%|▌         | 5/100 [00:00<00:03, 30.47it/s]"
     ]
    },
    {
     "name": "stdout",
     "output_type": "stream",
     "text": [
      "Finished saving model\n",
      "--------------------------------------------------\n",
      "computing bleu\n"
     ]
    },
    {
     "name": "stderr",
     "output_type": "stream",
     "text": [
      "100%|██████████| 100/100 [00:04<00:00, 23.95it/s]\n"
     ]
    },
    {
     "name": "stdout",
     "output_type": "stream",
     "text": [
      "BLEU: 10.679\n",
      "finished computing bleu ... \n",
      "--------------------------------------------------\n",
      "Training set predictions\n",
      "English predictions, s=0, num=3:\n",
      "--------------------------------------------------\n",
      "Src | ステーキ は 中位 で 焼 い て くださ い 。                                                       \n",
      "Ref | i like my steak medium .                                                        \n",
      "Hyp | the is to to . _EOS                                                             \n",
      "--------------------------------------------------\n",
      "precision | 0.1667\n",
      "recall | 0.1667\n",
      "--------------------------------------------------\n",
      "Src | 彼女 の 美し さ に 関 し て は 、 疑 う 余地 が な い 。                                            \n",
      "Ref | there is no doubt as to her beauty .                                            \n",
      "Hyp | i is the to the to the the . . _EOS                                             \n",
      "--------------------------------------------------\n",
      "precision | 0.2727\n",
      "recall | 0.3333\n",
      "--------------------------------------------------\n",
      "Src | この 近所 の 家 は どれ も とても よく 似 て い る の で 見分け が つ か な い 。                             \n",
      "Ref | all the houses in this neighborhood look so much alike that i can &apos;t tell them apart .\n",
      "Hyp | i is the to to the the ? to . _EOS                                              \n",
      "--------------------------------------------------\n",
      "precision | 0.2727\n",
      "recall | 0.1667\n",
      "sentences matching filter = 3\n",
      "--------------------------------------------------\n",
      "dev set predictions\n",
      "English predictions, s=1000, num=3:\n"
     ]
    },
    {
     "name": "stderr",
     "output_type": "stream",
     "text": [
      "  5%|▌         | 5/100 [00:00<00:02, 42.00it/s]"
     ]
    },
    {
     "name": "stdout",
     "output_type": "stream",
     "text": [
      "--------------------------------------------------\n",
      "Src | 愚者 の あと 知恵 。                                                                    \n",
      "Ref | it is easy to be wise after the event .                                         \n",
      "Hyp | i _UNK _UNK _UNK _UNK _UNK . . _EOS                                             \n",
      "--------------------------------------------------\n",
      "precision | 0.1111\n",
      "recall | 0.1000\n",
      "--------------------------------------------------\n",
      "Src | その 男 は 地面 に 倒れ た 。                                                              \n",
      "Ref | the man fell down on the ground .                                               \n",
      "Hyp | the _UNK to to the the . . _EOS                                                 \n",
      "--------------------------------------------------\n",
      "precision | 0.3333\n",
      "recall | 0.3750\n",
      "--------------------------------------------------\n",
      "Src | 決勝 戦 で 負け る ほど 悔し い もの は な い 。                                                  \n",
      "Ref | nothing is more disappointing than to lose in the finals .                      \n",
      "Hyp | it is the to to the _UNK . . _EOS                                               \n",
      "--------------------------------------------------\n",
      "precision | 0.4000\n",
      "recall | 0.3636\n",
      "sentences matching filter = 3\n",
      "--------------------------------------------------\n",
      "--------------------------------------------------\n"
     ]
    },
    {
     "name": "stderr",
     "output_type": "stream",
     "text": [
      "100%|██████████| 100/100 [00:04<00:00, 20.37it/s]"
     ]
    },
    {
     "name": "stdout",
     "output_type": "stream",
     "text": [
      "BLEU: 10.679\n",
      "--------------------------------------------------\n",
      "--------------------------------------------------\n",
      "Finished training. Filenames:\n",
      "model/train_1000sen_1-1layers_100units_ja_en_exp1_SOFT_ATTN.log\n",
      "model/seq2seq_1000sen_1-1layers_100units_ja_en_exp1_SOFT_ATTN.model\n"
     ]
    },
    {
     "name": "stderr",
     "output_type": "stream",
     "text": [
      "\n"
     ]
    }
   ],
   "source": [
    "%run nmt_translate.py"
   ]
  },
  {
   "cell_type": "code",
   "execution_count": 2,
   "metadata": {},
   "outputs": [
    {
     "name": "stdout",
     "output_type": "stream",
     "text": [
      "English predictions, s=10000, num=1:\n",
      "--------------------------------------------------\n",
      "Src | この 路地 は 通り抜け でき ま せ ん 。                                                         \n",
      "Ref | this is a dead @-@ end alley .                                                  \n",
      "Hyp | this _UNK is _UNK . _UNK _EOS                                                   \n",
      "--------------------------------------------------\n",
      "precision | 0.4286\n",
      "recall | 0.3750\n"
     ]
    },
    {
     "ename": "TypeError",
     "evalue": "ufunc 'isnan' not supported for the input types, and the inputs could not be safely coerced to any supported types according to the casting rule ''safe''",
     "traceback": [
      "\u001b[0;31m---------------------------------------------------------------------------\u001b[0m",
      "\u001b[0;31mTypeError\u001b[0m                                 Traceback (most recent call last)",
      "\u001b[0;32m<ipython-input-2-779ad2d283ee>\u001b[0m in \u001b[0;36m<module>\u001b[0;34m()\u001b[0m\n\u001b[0;32m----> 1\u001b[0;31m \u001b[0m_\u001b[0m \u001b[0;34m=\u001b[0m \u001b[0mpredict\u001b[0m\u001b[0;34m(\u001b[0m\u001b[0ms\u001b[0m\u001b[0;34m=\u001b[0m\u001b[0;36m10000\u001b[0m\u001b[0;34m,\u001b[0m \u001b[0mnum\u001b[0m\u001b[0;34m=\u001b[0m\u001b[0;36m1\u001b[0m\u001b[0;34m,\u001b[0m \u001b[0mplot\u001b[0m\u001b[0;34m=\u001b[0m\u001b[0;32mTrue\u001b[0m\u001b[0;34m)\u001b[0m\u001b[0;34m\u001b[0m\u001b[0m\n\u001b[0m",
      "\u001b[0;32m~/Documents/CODE_/MT/nmt_translate.py\u001b[0m in \u001b[0;36mpredict\u001b[0;34m(s, num, display, plot, p_filt, r_filt, sample)\u001b[0m\n\u001b[1;32m    428\u001b[0m                                              \u001b[0mplot_name\u001b[0m\u001b[0;34m=\u001b[0m\u001b[0mplot_name\u001b[0m\u001b[0;34m,\u001b[0m\u001b[0;34m\u001b[0m\u001b[0m\n\u001b[1;32m    429\u001b[0m                                              \u001b[0mp_filt\u001b[0m\u001b[0;34m=\u001b[0m\u001b[0mp_filt\u001b[0m\u001b[0;34m,\u001b[0m \u001b[0mr_filt\u001b[0m\u001b[0;34m=\u001b[0m\u001b[0mr_filt\u001b[0m\u001b[0;34m,\u001b[0m\u001b[0;34m\u001b[0m\u001b[0m\n\u001b[0;32m--> 430\u001b[0;31m                                              sample=sample)\n\u001b[0m\u001b[1;32m    431\u001b[0m                 \u001b[0mmetrics\u001b[0m\u001b[0;34m[\u001b[0m\u001b[0;34m\"cp\"\u001b[0m\u001b[0;34m]\u001b[0m\u001b[0;34m.\u001b[0m\u001b[0mappend\u001b[0m\u001b[0;34m(\u001b[0m\u001b[0mcp\u001b[0m\u001b[0;34m)\u001b[0m\u001b[0;34m\u001b[0m\u001b[0m\n\u001b[1;32m    432\u001b[0m                 \u001b[0mmetrics\u001b[0m\u001b[0;34m[\u001b[0m\u001b[0;34m\"tp\"\u001b[0m\u001b[0;34m]\u001b[0m\u001b[0;34m.\u001b[0m\u001b[0mappend\u001b[0m\u001b[0;34m(\u001b[0m\u001b[0mtp\u001b[0m\u001b[0;34m)\u001b[0m\u001b[0;34m\u001b[0m\u001b[0m\n",
      "\u001b[0;32m~/Documents/CODE_/MT/nmt_translate.py\u001b[0m in \u001b[0;36mpredict_sentence\u001b[0;34m(line_fr, line_en, display, plot_name, p_filt, r_filt, sample)\u001b[0m\n\u001b[1;32m    388\u001b[0m \u001b[0;34m\u001b[0m\u001b[0m\n\u001b[1;32m    389\u001b[0m         \u001b[0;32mif\u001b[0m \u001b[0mplot_name\u001b[0m \u001b[0;32mand\u001b[0m \u001b[0muse_attn\u001b[0m\u001b[0;34m:\u001b[0m\u001b[0;34m\u001b[0m\u001b[0m\n\u001b[0;32m--> 390\u001b[0;31m             \u001b[0mplot_attention\u001b[0m\u001b[0;34m(\u001b[0m\u001b[0malpha_arr\u001b[0m\u001b[0;34m,\u001b[0m \u001b[0mfr_words\u001b[0m\u001b[0;34m,\u001b[0m \u001b[0mpred_words\u001b[0m\u001b[0;34m,\u001b[0m \u001b[0mplot_name\u001b[0m\u001b[0;34m)\u001b[0m\u001b[0;34m\u001b[0m\u001b[0m\n\u001b[0m\u001b[1;32m    391\u001b[0m \u001b[0;34m\u001b[0m\u001b[0m\n\u001b[1;32m    392\u001b[0m     \u001b[0;32mreturn\u001b[0m \u001b[0mmatches\u001b[0m\u001b[0;34m,\u001b[0m \u001b[0mlen\u001b[0m\u001b[0;34m(\u001b[0m\u001b[0mpred_ids\u001b[0m\u001b[0;34m)\u001b[0m\u001b[0;34m,\u001b[0m \u001b[0mlen\u001b[0m\u001b[0;34m(\u001b[0m\u001b[0men_ids\u001b[0m\u001b[0;34m)\u001b[0m\u001b[0;34m,\u001b[0m \u001b[0mfilter_match\u001b[0m\u001b[0;34m\u001b[0m\u001b[0m\n",
      "\u001b[0;32m~/Documents/CODE_/MT/nmt_translate.py\u001b[0m in \u001b[0;36mplot_attention\u001b[0;34m(alpha_arr, fr, en, plot_name)\u001b[0m\n\u001b[1;32m    325\u001b[0m     \u001b[0mcmap\u001b[0m \u001b[0;34m=\u001b[0m \u001b[0msns\u001b[0m\u001b[0;34m.\u001b[0m\u001b[0mlight_palette\u001b[0m\u001b[0;34m(\u001b[0m\u001b[0;34m(\u001b[0m\u001b[0;36m200\u001b[0m\u001b[0;34m,\u001b[0m \u001b[0;36m75\u001b[0m\u001b[0;34m,\u001b[0m \u001b[0;36m60\u001b[0m\u001b[0;34m)\u001b[0m\u001b[0;34m,\u001b[0m \u001b[0minput\u001b[0m\u001b[0;34m=\u001b[0m\u001b[0;34m\"husl\"\u001b[0m\u001b[0;34m,\u001b[0m \u001b[0mas_cmap\u001b[0m\u001b[0;34m=\u001b[0m\u001b[0;32mTrue\u001b[0m\u001b[0;34m)\u001b[0m\u001b[0;34m\u001b[0m\u001b[0m\n\u001b[1;32m    326\u001b[0m     \u001b[0mprop\u001b[0m \u001b[0;34m=\u001b[0m \u001b[0mFontProperties\u001b[0m\u001b[0;34m(\u001b[0m\u001b[0mfname\u001b[0m\u001b[0;34m=\u001b[0m\u001b[0;34m'fonts/IPAfont00303/ipam.ttf'\u001b[0m\u001b[0;34m,\u001b[0m \u001b[0msize\u001b[0m\u001b[0;34m=\u001b[0m\u001b[0;36m12\u001b[0m\u001b[0;34m)\u001b[0m\u001b[0;34m\u001b[0m\u001b[0m\n\u001b[0;32m--> 327\u001b[0;31m     \u001b[0max\u001b[0m \u001b[0;34m=\u001b[0m \u001b[0msns\u001b[0m\u001b[0;34m.\u001b[0m\u001b[0mheatmap\u001b[0m\u001b[0;34m(\u001b[0m\u001b[0malpha_arr\u001b[0m\u001b[0;34m,\u001b[0m \u001b[0mxticklabels\u001b[0m\u001b[0;34m=\u001b[0m\u001b[0mfr\u001b[0m\u001b[0;34m,\u001b[0m \u001b[0myticklabels\u001b[0m\u001b[0;34m=\u001b[0m\u001b[0men\u001b[0m\u001b[0;34m,\u001b[0m \u001b[0max\u001b[0m\u001b[0;34m=\u001b[0m\u001b[0max\u001b[0m\u001b[0;34m,\u001b[0m \u001b[0mcmap\u001b[0m\u001b[0;34m=\u001b[0m\u001b[0mcmap\u001b[0m\u001b[0;34m,\u001b[0m \u001b[0mcbar_ax\u001b[0m\u001b[0;34m=\u001b[0m\u001b[0max_c\u001b[0m\u001b[0;34m)\u001b[0m\u001b[0;34m\u001b[0m\u001b[0m\n\u001b[0m\u001b[1;32m    328\u001b[0m \u001b[0;34m\u001b[0m\u001b[0m\n\u001b[1;32m    329\u001b[0m     \u001b[0max\u001b[0m\u001b[0;34m.\u001b[0m\u001b[0mxaxis\u001b[0m\u001b[0;34m.\u001b[0m\u001b[0mtick_top\u001b[0m\u001b[0;34m(\u001b[0m\u001b[0;34m)\u001b[0m\u001b[0;34m\u001b[0m\u001b[0m\n",
      "\u001b[0;32m~/Documents/ENV/anaconda3/envs/anlp/lib/python3.6/site-packages/seaborn/matrix.py\u001b[0m in \u001b[0;36mheatmap\u001b[0;34m(data, vmin, vmax, cmap, center, robust, annot, fmt, annot_kws, linewidths, linecolor, cbar, cbar_kws, cbar_ax, square, xticklabels, yticklabels, mask, ax, **kwargs)\u001b[0m\n\u001b[1;32m    515\u001b[0m     plotter = _HeatMapper(data, vmin, vmax, cmap, center, robust, annot, fmt,\n\u001b[1;32m    516\u001b[0m                           \u001b[0mannot_kws\u001b[0m\u001b[0;34m,\u001b[0m \u001b[0mcbar\u001b[0m\u001b[0;34m,\u001b[0m \u001b[0mcbar_kws\u001b[0m\u001b[0;34m,\u001b[0m \u001b[0mxticklabels\u001b[0m\u001b[0;34m,\u001b[0m\u001b[0;34m\u001b[0m\u001b[0m\n\u001b[0;32m--> 517\u001b[0;31m                           yticklabels, mask)\n\u001b[0m\u001b[1;32m    518\u001b[0m \u001b[0;34m\u001b[0m\u001b[0m\n\u001b[1;32m    519\u001b[0m     \u001b[0;31m# Add the pcolormesh kwargs here\u001b[0m\u001b[0;34m\u001b[0m\u001b[0;34m\u001b[0m\u001b[0m\n",
      "\u001b[0;32m~/Documents/ENV/anaconda3/envs/anlp/lib/python3.6/site-packages/seaborn/matrix.py\u001b[0m in \u001b[0;36m__init__\u001b[0;34m(self, data, vmin, vmax, cmap, center, robust, annot, fmt, annot_kws, cbar, cbar_kws, xticklabels, yticklabels, mask)\u001b[0m\n\u001b[1;32m    166\u001b[0m         \u001b[0;31m# Determine good default values for the colormapping\u001b[0m\u001b[0;34m\u001b[0m\u001b[0;34m\u001b[0m\u001b[0m\n\u001b[1;32m    167\u001b[0m         self._determine_cmap_params(plot_data, vmin, vmax,\n\u001b[0;32m--> 168\u001b[0;31m                                     cmap, center, robust)\n\u001b[0m\u001b[1;32m    169\u001b[0m \u001b[0;34m\u001b[0m\u001b[0m\n\u001b[1;32m    170\u001b[0m         \u001b[0;31m# Sort out the annotations\u001b[0m\u001b[0;34m\u001b[0m\u001b[0;34m\u001b[0m\u001b[0m\n",
      "\u001b[0;32m~/Documents/ENV/anaconda3/envs/anlp/lib/python3.6/site-packages/seaborn/matrix.py\u001b[0m in \u001b[0;36m_determine_cmap_params\u001b[0;34m(self, plot_data, vmin, vmax, cmap, center, robust)\u001b[0m\n\u001b[1;32m    203\u001b[0m                                cmap, center, robust):\n\u001b[1;32m    204\u001b[0m         \u001b[0;34m\"\"\"Use some heuristics to set good defaults for colorbar and range.\"\"\"\u001b[0m\u001b[0;34m\u001b[0m\u001b[0m\n\u001b[0;32m--> 205\u001b[0;31m         \u001b[0mcalc_data\u001b[0m \u001b[0;34m=\u001b[0m \u001b[0mplot_data\u001b[0m\u001b[0;34m.\u001b[0m\u001b[0mdata\u001b[0m\u001b[0;34m[\u001b[0m\u001b[0;34m~\u001b[0m\u001b[0mnp\u001b[0m\u001b[0;34m.\u001b[0m\u001b[0misnan\u001b[0m\u001b[0;34m(\u001b[0m\u001b[0mplot_data\u001b[0m\u001b[0;34m.\u001b[0m\u001b[0mdata\u001b[0m\u001b[0;34m)\u001b[0m\u001b[0;34m]\u001b[0m\u001b[0;34m\u001b[0m\u001b[0m\n\u001b[0m\u001b[1;32m    206\u001b[0m         \u001b[0;32mif\u001b[0m \u001b[0mvmin\u001b[0m \u001b[0;32mis\u001b[0m \u001b[0;32mNone\u001b[0m\u001b[0;34m:\u001b[0m\u001b[0;34m\u001b[0m\u001b[0m\n\u001b[1;32m    207\u001b[0m             \u001b[0mvmin\u001b[0m \u001b[0;34m=\u001b[0m \u001b[0mnp\u001b[0m\u001b[0;34m.\u001b[0m\u001b[0mpercentile\u001b[0m\u001b[0;34m(\u001b[0m\u001b[0mcalc_data\u001b[0m\u001b[0;34m,\u001b[0m \u001b[0;36m2\u001b[0m\u001b[0;34m)\u001b[0m \u001b[0;32mif\u001b[0m \u001b[0mrobust\u001b[0m \u001b[0;32melse\u001b[0m \u001b[0mcalc_data\u001b[0m\u001b[0;34m.\u001b[0m\u001b[0mmin\u001b[0m\u001b[0;34m(\u001b[0m\u001b[0;34m)\u001b[0m\u001b[0;34m\u001b[0m\u001b[0m\n",
      "\u001b[0;31mTypeError\u001b[0m: ufunc 'isnan' not supported for the input types, and the inputs could not be safely coerced to any supported types according to the casting rule ''safe''"
     ],
     "output_type": "error"
    }
   ],
   "source": [
    "_ = predict(s=10000, num=1, plot=True)"
   ]
  },
  {
   "cell_type": "code",
   "execution_count": 3,
   "metadata": {},
   "outputs": [
    {
     "name": "stdout",
     "output_type": "stream",
     "text": [
      "English predictions, s=10000, num=10:\n",
      "--------------------------------------------------\n",
      "Src | この 路地 は 通り抜け でき ま せ ん 。                                                         \n",
      "Ref | this is a dead @-@ end alley .                                                  \n",
      "Hyp | i can &apos;t no this . . _EOS                                                  \n",
      "--------------------------------------------------\n",
      "precision | 0.2500\n",
      "recall | 0.2500\n",
      "--------------------------------------------------\n",
      "Src | ええ 、 届 い た の を お 知 らせ する の を 忘れ て しま っ て す み ま せ ん 。                            \n",
      "Ref | yes , sorry , i forgot to acknowledge it .                                      \n",
      "Hyp | i can &apos;t to to you you a a a a . . . _EOS                                  \n",
      "--------------------------------------------------\n",
      "precision | 0.2000\n",
      "recall | 0.3000\n",
      "--------------------------------------------------\n",
      "Src | 彼 は ドイツ 生まれ の 人 だ 。                                                             \n",
      "Ref | he is a german by origin .                                                      \n",
      "Hyp | he is a of of . . _EOS                                                          \n",
      "--------------------------------------------------\n",
      "precision | 0.5000\n",
      "recall | 0.5714\n",
      "--------------------------------------------------\n",
      "Src | 我々 は ロビン フッド の 伝説 を 良く 知 っ て い る 。                                              \n",
      "Ref | we are familiar with the legend of robin hood .                                 \n",
      "Hyp | we are _UNK _UNK _UNK _UNK . . _EOS                                             \n",
      "--------------------------------------------------\n",
      "precision | 0.3333\n",
      "recall | 0.3000\n",
      "--------------------------------------------------\n",
      "Src | トランク に は 鍵 が かけ られ て い ま す か 。                                                  \n",
      "Ref | is your trunk locked ?                                                          \n",
      "Hyp | do you _UNK _UNK _UNK ? ? _EOS                                                  \n",
      "--------------------------------------------------\n",
      "precision | 0.1250\n",
      "recall | 0.2000\n",
      "--------------------------------------------------\n",
      "Src | それ は 冗談 の つもり で い っ た だけ だ よ 。                                                  \n",
      "Ref | i just meant it as a joke .                                                     \n",
      "Hyp | it &apos;s it , , it _EOS                                                       \n",
      "--------------------------------------------------\n",
      "precision | 0.1429\n",
      "recall | 0.1250\n",
      "--------------------------------------------------\n",
      "Src | その 部屋 は 居心地 の 良 い 感じ が し た 。                                                    \n",
      "Ref | the room had a nice cozy feel .                                                 \n",
      "Hyp | the was was the the the . . _EOS                                                \n",
      "--------------------------------------------------\n",
      "precision | 0.2222\n",
      "recall | 0.2500\n",
      "--------------------------------------------------\n",
      "Src | パソコン が 使え る の は 彼女 だけ で す 。                                                     \n",
      "Ref | she alone is able to use the personal computer .                                \n",
      "Hyp | i is is she her her . . _EOS                                                    \n",
      "--------------------------------------------------\n",
      "precision | 0.3333\n",
      "recall | 0.3000\n",
      "--------------------------------------------------\n",
      "Src | 彼 ら は 共同 声明 に 同意 し た 。                                                          \n",
      "Ref | they agreed on a joint statement .                                              \n",
      "Hyp | they made on the the . . _EOS                                                   \n",
      "--------------------------------------------------\n",
      "precision | 0.3750\n",
      "recall | 0.4286\n",
      "--------------------------------------------------\n",
      "Src | 彼 は 彼女 を バス に 助け あげ た 。                                                         \n",
      "Ref | he handed her up into the bus .                                                 \n",
      "Hyp | he _UNK his her her . . _EOS                                                    \n",
      "--------------------------------------------------\n",
      "precision | 0.3750\n",
      "recall | 0.3750\n",
      "sentences matching filter = 10\n"
     ]
    }
   ],
   "source": [
    "_ = predict(s=10000, num=10)"
   ]
  },
  {
   "cell_type": "code",
   "execution_count": 4,
   "metadata": {},
   "outputs": [
    {
     "name": "stdout",
     "output_type": "stream",
     "text": [
      "English predictions, s=0, num=10:\n",
      "--------------------------------------------------\n",
      "Src | ステーキ は 中位 で 焼 い て くださ い 。                                                       \n",
      "Ref | i like my steak medium .                                                        \n",
      "Hyp | please the the the the . . _EOS                                                 \n",
      "--------------------------------------------------\n",
      "precision | 0.1250\n",
      "recall | 0.1667\n",
      "--------------------------------------------------\n",
      "Src | 彼女 の 美し さ に 関 し て は 、 疑 う 余地 が な い 。                                            \n",
      "Ref | there is no doubt as to her beauty .                                            \n",
      "Hyp | there is no to her her her . . _EOS                                             \n",
      "--------------------------------------------------\n",
      "precision | 0.6000\n",
      "recall | 0.6667\n",
      "--------------------------------------------------\n",
      "Src | この 近所 の 家 は どれ も とても よく 似 て い る の で 見分け が つ か な い 。                             \n",
      "Ref | all the houses in this neighborhood look so much alike that i can &apos;t tell them apart .\n",
      "Hyp | this can is is , , this this this this this this . . . _EOS                     \n",
      "--------------------------------------------------\n",
      "precision | 0.1875\n",
      "recall | 0.1667\n",
      "--------------------------------------------------\n",
      "Src | 相撲 を 見 た こと が あ り ま す か 。                                                       \n",
      "Ref | have you ever watched sumo wrestling ?                                          \n",
      "Hyp | have you have _UNK _UNK ? ? _EOS                                                \n",
      "--------------------------------------------------\n",
      "precision | 0.3750\n",
      "recall | 0.4286\n",
      "--------------------------------------------------\n",
      "Src | 彼 は 、 その 川 を 泳 い で 渡 ろ う と し て 失敗 し た 。                                         \n",
      "Ref | he failed in his attempt to swim across the river .                             \n",
      "Hyp | he was the the the the the the the . . _EOS                                     \n",
      "--------------------------------------------------\n",
      "precision | 0.2500\n",
      "recall | 0.2727\n",
      "--------------------------------------------------\n",
      "Src | こちら に 着 い たら すぐ 連絡 し て 下さ い 。                                                   \n",
      "Ref | get in touch with me as soon as you arrive here .                               \n",
      "Hyp | please me to to to a a . . . _EOS                                               \n",
      "--------------------------------------------------\n",
      "precision | 0.1818\n",
      "recall | 0.1667\n",
      "--------------------------------------------------\n",
      "Src | 昼食 の 後 、 散歩 を する の は どう で す か 。                                                 \n",
      "Ref | how about going for a walk after lunch ?                                        \n",
      "Hyp | what is , , , in in ? _EOS                                                      \n",
      "--------------------------------------------------\n",
      "precision | 0.1111\n",
      "recall | 0.1111\n",
      "--------------------------------------------------\n",
      "Src | 彼女 は 彼 を 見 た だけ で も いや だっ た 。                                                   \n",
      "Ref | the sight of him was hateful to her .                                           \n",
      "Hyp | she was to to to to . . _EOS                                                    \n",
      "--------------------------------------------------\n",
      "precision | 0.3333\n",
      "recall | 0.3333\n",
      "--------------------------------------------------\n",
      "Src | うわさ は 四方 八方 に 広が っ た 。                                                          \n",
      "Ref | the rumor spread far and wide .                                                 \n",
      "Hyp | the _UNK _UNK in in . . _EOS                                                    \n",
      "--------------------------------------------------\n",
      "precision | 0.2500\n",
      "recall | 0.2857\n",
      "--------------------------------------------------\n",
      "Src | 老人 は 過去 を 振り返 り がち で あ る 。                                                      \n",
      "Ref | old people are inclined to look back on the past .                              \n",
      "Hyp | the is the the the the the . . _EOS                                             \n",
      "--------------------------------------------------\n",
      "precision | 0.2000\n",
      "recall | 0.1818\n",
      "sentences matching filter = 10\n"
     ]
    }
   ],
   "source": [
    "_ = predict(s=0, num=10)"
   ]
  },
  {
   "cell_type": "code",
   "execution_count": 5,
   "metadata": {},
   "outputs": [
    {
     "name": "stdout",
     "output_type": "stream",
     "text": [
      "English predictions, s=10000, num=10:\n",
      "--------------------------------------------------\n",
      "Src | 彼 は ドイツ 生まれ の 人 だ 。                                                             \n",
      "Ref | he is a german by origin .                                                      \n",
      "Hyp | he is a of of . . _EOS                                                          \n",
      "--------------------------------------------------\n",
      "precision | 0.5000\n",
      "recall | 0.5714\n",
      "sentences matching filter = 1\n"
     ]
    }
   ],
   "source": [
    "_ = predict(s=10000, num=10, r_filt=.5) "
   ]
  },
  {
   "cell_type": "code",
   "execution_count": 6,
   "metadata": {},
   "outputs": [
    {
     "name": "stdout",
     "output_type": "stream",
     "text": [
      "English predictions, s=10000, num=10:\n",
      "--------------------------------------------------\n",
      "Src | 彼 は ドイツ 生まれ の 人 だ 。                                                             \n",
      "Ref | he is a german by origin .                                                      \n",
      "Hyp | he is a of of . . _EOS                                                          \n",
      "--------------------------------------------------\n",
      "precision | 0.5000\n",
      "recall | 0.5714\n",
      "sentences matching filter = 1\n"
     ]
    }
   ],
   "source": [
    "_ = predict(s=10000, num=10, p_filt=.5)"
   ]
  },
  {
   "cell_type": "code",
   "execution_count": null,
   "metadata": {},
   "outputs": [],
   "source": []
  }
 ],
 "metadata": {
  "kernelspec": {
   "display_name": "Python 3",
   "language": "python",
   "name": "python3"
  },
  "language_info": {
   "codemirror_mode": {
    "name": "ipython",
    "version": 3
   },
   "file_extension": ".py",
   "mimetype": "text/x-python",
   "name": "python",
   "nbconvert_exporter": "python",
   "pygments_lexer": "ipython3",
   "version": "3.6.2"
  },
  "varInspector": {
   "cols": {
    "lenName": 16.0,
    "lenType": 16.0,
    "lenVar": 40.0
   },
   "kernels_config": {
    "python": {
     "delete_cmd_postfix": "",
     "delete_cmd_prefix": "del ",
     "library": "var_list.py",
     "varRefreshCmd": "print(var_dic_list())"
    },
    "r": {
     "delete_cmd_postfix": ") ",
     "delete_cmd_prefix": "rm(",
     "library": "var_list.r",
     "varRefreshCmd": "cat(var_dic_list()) "
    }
   },
   "types_to_exclude": [
    "module",
    "function",
    "builtin_function_or_method",
    "instance",
    "_Feature"
   ],
   "window_display": false
  }
 },
 "nbformat": 4,
 "nbformat_minor": 2
}
